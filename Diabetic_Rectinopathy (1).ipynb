{
  "cells": [
    {
      "cell_type": "code",
      "execution_count": null,
      "metadata": {
        "id": "FkB3XIFHuE-M"
      },
      "outputs": [],
      "source": [
        "import os\n",
        "os.environ[\"KAGGLE_CONFIG_DIR\"]=\"/content/kaggle.json\""
      ]
    },
    {
      "cell_type": "code",
      "execution_count": null,
      "metadata": {
        "id": "v2csBSK0u_zm"
      },
      "outputs": [],
      "source": [
        "import cv2\n",
        "import numpy as np"
      ]
    },
    {
      "cell_type": "code",
      "execution_count": null,
      "metadata": {
        "colab": {
          "base_uri": "https://localhost:8080/"
        },
        "id": "Tr0i_1wEuFg8",
        "outputId": "2f55bf6b-0f1e-421f-fdde-51efced74160"
      },
      "outputs": [
        {
          "name": "stdout",
          "output_type": "stream",
          "text": [
            "Dataset URL: https://www.kaggle.com/datasets/sovitrath/diabetic-retinopathy-224x224-gaussian-filtered\n",
            "License(s): CC0-1.0\n",
            "diabetic-retinopathy-224x224-gaussian-filtered.zip: Skipping, found more recently modified local copy (use --force to force download)\n"
          ]
        }
      ],
      "source": [
        "!kaggle datasets download -d sovitrath/diabetic-retinopathy-224x224-gaussian-filtered"
      ]
    },
    {
      "cell_type": "code",
      "execution_count": null,
      "metadata": {
        "colab": {
          "background_save": true,
          "base_uri": "https://localhost:8080/"
        },
        "collapsed": true,
        "id": "Lzkj9NlVujM4",
        "outputId": "34ab94b5-ced7-47e8-b3f0-aac741b96a85"
      },
      "outputs": [
        {
          "name": "stdout",
          "output_type": "stream",
          "text": [
            "Archive:  diabetic-retinopathy-224x224-gaussian-filtered.zip\n",
            "replace gaussian_filtered_images/gaussian_filtered_images/Mild/0024cdab0c1e.png? [y]es, [n]o, [A]ll, [N]one, [r]ename: "
          ]
        }
      ],
      "source": [
        "!unzip diabetic-retinopathy-224x224-gaussian-filtered.zip"
      ]
    },
    {
      "cell_type": "code",
      "execution_count": null,
      "metadata": {
        "id": "glx8PNzjunj3"
      },
      "outputs": [],
      "source": [
        "mainpath=\"/content/gaussian_filtered_images/gaussian_filtered_images\"\n",
        "subs=os.listdir(mainpath)\n",
        "subs.remove('export.pkl')\n",
        "x=[]\n",
        "y=[]\n",
        "for path in subs:\n",
        "  subspath=os.path.join(mainpath,path)\n",
        "\n",
        "  imgpath=os.listdir(subspath)\n",
        "\n",
        "  for img in imgpath:\n",
        "    imgpath2=os.path.join(subspath,img)\n",
        "    img=cv2.imread(imgpath2,0)\n",
        "    # print(img.shape)\n",
        "    reshaped=img.reshape(224,224,1)\n",
        "    x.append(reshaped)\n",
        "    y.append(path)"
      ]
    },
    {
      "cell_type": "code",
      "execution_count": null,
      "metadata": {
        "id": "xkn9S-d1yAak"
      },
      "outputs": [],
      "source": [
        "print(len(x))\n",
        "print(len(y))"
      ]
    },
    {
      "cell_type": "code",
      "execution_count": null,
      "metadata": {
        "id": "4KRnw6NdyIc5"
      },
      "outputs": [],
      "source": [
        "from sklearn.model_selection import train_test_split\n",
        "x_train,x_test,y_train,y_test=train_test_split(x,y,test_size=0.2,random_state=42)"
      ]
    },
    {
      "cell_type": "code",
      "execution_count": null,
      "metadata": {
        "id": "AordX3sDyNLm"
      },
      "outputs": [],
      "source": [
        "from sklearn.preprocessing import LabelEncoder\n",
        "le=LabelEncoder()\n",
        "y_train=le.fit_transform(y_train)\n",
        "y_test=le.transform(y_test)"
      ]
    },
    {
      "cell_type": "code",
      "execution_count": null,
      "metadata": {
        "id": "zT2u5ud2yfer"
      },
      "outputs": [],
      "source": [
        "import tensorflow\n",
        "from tensorflow.keras.models import Sequential\n",
        "from tensorflow.keras.layers import Dense,Conv2D,MaxPool2D,Flatten"
      ]
    },
    {
      "cell_type": "code",
      "execution_count": null,
      "metadata": {
        "id": "3Wl-s_XTyhHS"
      },
      "outputs": [],
      "source": [
        "model = Sequential()\n",
        "model.add(Conv2D(32, (3, 3), activation=\"relu\", input_shape=(224, 224, 1)))\n",
        "model.add(MaxPool2D(2, 2))\n",
        "model.add(Conv2D(64, (3, 3), activation=\"relu\"))\n",
        "model.add(MaxPool2D(2, 2))\n",
        "model.add(Conv2D(128, (3, 3), activation=\"relu\"))\n",
        "model.add(MaxPool2D(2, 2))\n",
        "model.add(Flatten())\n",
        "model.add(Dense(64, activation=\"relu\"))\n",
        "model.add(Dense(128, activation=\"relu\"))\n",
        "model.add(Dense(5, activation=\"softmax\"))"
      ]
    },
    {
      "cell_type": "code",
      "execution_count": null,
      "metadata": {
        "id": "EtPGJwsMzBx7"
      },
      "outputs": [],
      "source": [
        "model.compile(optimizer=\"adam\",loss=\"sparse_categorical_crossentropy\",metrics=[\"accuracy\"])"
      ]
    },
    {
      "cell_type": "code",
      "execution_count": null,
      "metadata": {
        "id": "ssmSRpLOzJ0b"
      },
      "outputs": [],
      "source": [
        "x_train=np.array(x_train)\n",
        "y_train=np.array(y_train)\n",
        "x_test=np.array(x_test)\n",
        "y_test=np.array(y_test)"
      ]
    },
    {
      "cell_type": "code",
      "execution_count": null,
      "metadata": {
        "id": "l-3Y7M5oznrv"
      },
      "outputs": [],
      "source": [
        "x_train.shape"
      ]
    },
    {
      "cell_type": "code",
      "execution_count": null,
      "metadata": {
        "id": "x__CGNVDzEgU"
      },
      "outputs": [],
      "source": [
        "model.fit(x_train,y_train,epochs=10)"
      ]
    },
    {
      "cell_type": "code",
      "execution_count": null,
      "metadata": {
        "id": "pi9cEJeGznDq"
      },
      "outputs": [],
      "source": [
        "model.evaluate(x_test,y_test)"
      ]
    },
    {
      "cell_type": "code",
      "execution_count": null,
      "metadata": {
        "id": "X4nmrusG1g5t"
      },
      "outputs": [],
      "source": [
        "predpath=\"/content/gaussian_filtered_images/gaussian_filtered_images/Severe/0c917c372572.png\"\n",
        "img=cv2.imread(predpath,0)\n",
        "img=img.reshape(1,224,224,1)\n",
        "model.predict(img)\n",
        "idx=np.argmax(model.predict(img))\n",
        "idx=le.inverse_transform([idx])\n",
        "print(idx)\n"
      ]
    },
    {
      "cell_type": "code",
      "execution_count": null,
      "metadata": {
        "id": "A4njVtShoQln"
      },
      "outputs": [],
      "source": [
        "!pip install anvil-uplink"
      ]
    },
    {
      "cell_type": "code",
      "execution_count": null,
      "metadata": {
        "id": "dAby2ktLr1KG"
      },
      "outputs": [],
      "source": [
        "import anvil.server\n",
        "\n",
        "anvil.server.connect(\"server_26BEFHUEIAZKRXTW2Y4TM2VN-7UDYCKLMKOYLHVHZ\")"
      ]
    },
    {
      "cell_type": "code",
      "execution_count": null,
      "metadata": {
        "id": "QtBs_JrSdnKe"
      },
      "outputs": [],
      "source": [
        "import anvil.media\n",
        "import cv2\n",
        "import numpy as np\n",
        "from sklearn.preprocessing import LabelEncoder\n",
        "\n",
        "@anvil.server.callable\n",
        "def preprocess_image(image_path):\n",
        "    img = cv2.imread(image_path, cv2.IMREAD_GRAYSCALE)\n",
        "    img = cv2.resize(img, (224, 224))\n",
        "    # Normalize pixel values\n",
        "    img = img.astype('float32') / 255\n",
        "\n",
        "    # Reshape the image to match the expected input shape\n",
        "    img = img.reshape(1, 224, 224, 1)\n",
        "\n",
        "    return img\n",
        "\n",
        "@anvil.server.callable\n",
        "def classify_image(file):\n",
        "    # Load your model and label encoder here\n",
        "    # Example:\n",
        "    # model = load_model('path_to_your_model')\n",
        "    # le = LabelEncoder()\n",
        "    # le.classes_ = np.load('path_to_your_label_encoder_classes.npy')\n",
        "\n",
        "    # Save the uploaded image to a temporary file\n",
        "    with anvil.media.TempFile(file) as temp_file:\n",
        "        # Preprocess the image\n",
        "        img = preprocess_image(temp_file)\n",
        "\n",
        "        # Make prediction using the model\n",
        "        pred = model.predict(img)\n",
        "\n",
        "        # Get the index of the predicted class\n",
        "        idx = np.argmax(pred)\n",
        "\n",
        "        # Convert the index to the class label using the LabelEncoder\n",
        "        class_label = le.inverse_transform([idx])[0]\n",
        "\n",
        "        return class_label\n"
      ]
    },
    {
      "cell_type": "markdown",
      "metadata": {
        "id": "Hj13dHxNboT8"
      },
      "source": []
    }
  ],
  "metadata": {
    "accelerator": "GPU",
    "colab": {
      "gpuType": "T4",
      "provenance": []
    },
    "kernelspec": {
      "display_name": "Python 3",
      "name": "python3"
    },
    "language_info": {
      "name": "python"
    }
  },
  "nbformat": 4,
  "nbformat_minor": 0
}